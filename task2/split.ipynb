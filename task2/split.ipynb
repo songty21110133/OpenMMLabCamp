{
 "cells": [
  {
   "cell_type": "code",
   "execution_count": null,
   "outputs": [],
   "source": [
    "import splitfolders\n",
    "splitfolders.ratio(input='/root/autodl-tmp/MMPretrain/fruit30', output='/root/autodl-tmp/MMPretrain/fruit30_splited', seed=1337, ratio=(0.8, 0.2))"
   ],
   "metadata": {
    "collapsed": false
   }
  },
  {
   "cell_type": "code",
   "execution_count": null,
   "outputs": [],
   "source": [
    "chinese2english = {\n",
    "    '菠萝':'pineapple',\n",
    "    '草莓':'strawberry',\n",
    "    '车厘子':'cherry',\n",
    "    '桂圆':'longan',\n",
    "    '哈密瓜':'hami-melon',\n",
    "    '胡萝卜':'carrot',\n",
    "    '黄瓜':'cucumber',\n",
    "    '火龙果':'pitaya',\n",
    "    '苦瓜':'balsam-pear',\n",
    "    '梨':'pear',\n",
    "    '荔枝':'litchi',\n",
    "    '榴莲':'durian',\n",
    "    '芒果':'mango',\n",
    "    '猕猴桃':'kiwifruit',\n",
    "    '柠檬':'lemon',\n",
    "    '苹果-红':'red-apple',\n",
    "    '苹果-青':'green-apple',\n",
    "    '葡萄-白':'white-grape',\n",
    "    '葡萄-红':'red-grape',\n",
    "    '脐橙':'navel-orange',\n",
    "    '砂糖橘':'sugar-orange',\n",
    "    '山竹':'mangosteen',\n",
    "    '圣女果':'cherry-tomato',\n",
    "    '石榴':'pomegranate',\n",
    "    '西瓜':'watermelon',\n",
    "    '西红柿':'tomato',\n",
    "    '香蕉':'banana',\n",
    "    '杨梅':'red-bayberry',\n",
    "    '椰子':'coconut',\n",
    "    '柚子':'grapefruit',\n",
    "}"
   ],
   "metadata": {
    "collapsed": false
   }
  },
  {
   "cell_type": "code",
   "execution_count": null,
   "outputs": [],
   "source": [
    "import os\n",
    "def myrename(path):\n",
    "    file_list=os.listdir(path)\n",
    "    i=1\n",
    "    for fi in file_list:\n",
    "        old_name=os.path.join(path,fi)\n",
    "        new_name=os.path.join(path,chinese2english[str(fi)])\n",
    "        os.rename(old_name,new_name)"
   ],
   "metadata": {
    "collapsed": false
   }
  },
  {
   "cell_type": "code",
   "execution_count": null,
   "outputs": [],
   "source": [
    "myrename('/root/autodl-tmp/MMPretrain/fruit30_splited/train')"
   ],
   "metadata": {
    "collapsed": false
   }
  },
  {
   "cell_type": "code",
   "execution_count": null,
   "outputs": [],
   "source": [
    "myrename('/root/autodl-tmp/MMPretrain/fruit30_splited/val')"
   ],
   "metadata": {
    "collapsed": false
   }
  }
 ],
 "metadata": {
  "kernelspec": {
   "display_name": "Python 3",
   "language": "python",
   "name": "python3"
  },
  "language_info": {
   "codemirror_mode": {
    "name": "ipython",
    "version": 2
   },
   "file_extension": ".py",
   "mimetype": "text/x-python",
   "name": "python",
   "nbconvert_exporter": "python",
   "pygments_lexer": "ipython2",
   "version": "2.7.6"
  }
 },
 "nbformat": 4,
 "nbformat_minor": 0
}
